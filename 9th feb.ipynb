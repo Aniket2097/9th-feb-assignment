{
 "cells": [
  {
   "cell_type": "markdown",
   "id": "98ba028e-aa23-452b-978c-ec567b4e76d9",
   "metadata": {},
   "source": [
    "Q1, Create a vehicle class with an init method having instance variables as name_of_vehicle, max_speed\n",
    "and average_of_vehicle."
   ]
  },
  {
   "cell_type": "code",
   "execution_count": 9,
   "id": "ec0bf993-917c-4206-a506-1c1eab468477",
   "metadata": {},
   "outputs": [],
   "source": [
    "class vehicle():\n",
    "    def __init__ (self, name_of_vehicle, max_speed, average_speed) :\n",
    "        self. name_of_vehicle = name_of_vehicle\n",
    "        self. max_speed = max_speed\n",
    "        self. average_speed = average_speed\n",
    "        \n",
    "    def return_vehicle_detalis (self):\n",
    "        return self.name_of_vehicle,self.max_speed, self.average_speed"
   ]
  },
  {
   "cell_type": "code",
   "execution_count": 10,
   "id": "094a13cc-ad20-4786-b93e-17e108b31ab5",
   "metadata": {},
   "outputs": [],
   "source": [
    "Swift = vehicle('Dzire', 200 , 120)"
   ]
  },
  {
   "cell_type": "code",
   "execution_count": 11,
   "id": "fb27f987-56e9-4089-9697-a0df55964705",
   "metadata": {},
   "outputs": [
    {
     "data": {
      "text/plain": [
       "('Dzire', 200, 120)"
      ]
     },
     "execution_count": 11,
     "metadata": {},
     "output_type": "execute_result"
    }
   ],
   "source": [
    "Swift.return_vehicle_detalis()"
   ]
  },
  {
   "cell_type": "code",
   "execution_count": 12,
   "id": "83aa6379-a0f1-4d8c-b3db-b66d149a44be",
   "metadata": {},
   "outputs": [
    {
     "data": {
      "text/plain": [
       "'Dzire'"
      ]
     },
     "execution_count": 12,
     "metadata": {},
     "output_type": "execute_result"
    }
   ],
   "source": [
    "Swift.name_of_vehicle"
   ]
  },
  {
   "cell_type": "markdown",
   "id": "b170a591-aa13-43dd-8b6f-23b4c485fc22",
   "metadata": {},
   "source": [
    "Q2. Create a child class car from the vehicle class created in Que 1, which will inherit the vehicle class.\n",
    "Create a method named seating_capacity which takes capacity as an argument and returns the name of\n",
    "the vehicle and its seating capacity."
   ]
  },
  {
   "cell_type": "code",
   "execution_count": 84,
   "id": "37b6a862-0bf0-490e-9e6a-5090633ef566",
   "metadata": {},
   "outputs": [],
   "source": [
    "class vehicle():\n",
    "    def __init__ (self, name_of_vehicle, max_speed, average_speed) :\n",
    "        self. name_of_vehicle = name_of_vehicle\n",
    "        self. max_speed = max_speed\n",
    "        self. average_speed = average_speed\n",
    "        \n",
    "    def return_vehicle_detalis (self):\n",
    "        return self.name_of_vehicle,self.max_speed, self.average_speed\n",
    "    \n",
    "class car (vehicle):\n",
    "    def seating_capacity (self, capacity) :\n",
    "        return f\"The {self.name_of_vehicle} has seating capacity of {capacity}\"\n",
    "\n",
    "\n",
    "\n",
    "\n"
   ]
  },
  {
   "cell_type": "code",
   "execution_count": 85,
   "id": "ba9afb71-9e12-4e82-b5fd-bcedd91eb7b8",
   "metadata": {},
   "outputs": [],
   "source": [
    "my_car = car (\"Dzire\", 200 , 120)"
   ]
  },
  {
   "cell_type": "code",
   "execution_count": 73,
   "id": "fc91e751-e5a1-42aa-92da-e41a3915900b",
   "metadata": {},
   "outputs": [
    {
     "data": {
      "text/plain": [
       "120"
      ]
     },
     "execution_count": 73,
     "metadata": {},
     "output_type": "execute_result"
    }
   ],
   "source": [
    "my_car.average_speed"
   ]
  },
  {
   "cell_type": "code",
   "execution_count": 87,
   "id": "11832fc9-ce36-4ed1-971a-a80dba70e735",
   "metadata": {},
   "outputs": [
    {
     "data": {
      "text/plain": [
       "'The Dzire has seating capacity of 5'"
      ]
     },
     "execution_count": 87,
     "metadata": {},
     "output_type": "execute_result"
    }
   ],
   "source": [
    "my_car.seating_capacity(5)"
   ]
  },
  {
   "cell_type": "markdown",
   "id": "8a1fb22b-da0a-408b-93c7-29078ee0320e",
   "metadata": {},
   "source": [
    "Q3. What is multiple inheritance? Write a python code to demonstrate multiple inheritance."
   ]
  },
  {
   "cell_type": "markdown",
   "id": "f1d5a64b-b821-4dbd-95c6-7245d1b461ec",
   "metadata": {},
   "source": [
    "Multiple inheritance is a feature in object-oriented programming languages where a class can inherit properties and behavior from more than one parent class. This allows the child class to inherit attributes and methods from multiple parent classes, leading to a more reusable and flexible code."
   ]
  },
  {
   "cell_type": "code",
   "execution_count": 88,
   "id": "c437ba8b-dafd-4040-9617-8302cd2a4540",
   "metadata": {},
   "outputs": [],
   "source": [
    "class class1 ():\n",
    "    def test_class1(self):\n",
    "        print (\"this is class 1\")"
   ]
  },
  {
   "cell_type": "code",
   "execution_count": 89,
   "id": "031cd836-fde8-4b7b-be2a-a2243baf6bfc",
   "metadata": {},
   "outputs": [],
   "source": [
    "class class2 ():\n",
    "    def test_class2(self):\n",
    "        print (\"this is class 2\")"
   ]
  },
  {
   "cell_type": "code",
   "execution_count": 90,
   "id": "9ce5319e-c212-4bc1-b548-8b93cddcd69b",
   "metadata": {},
   "outputs": [],
   "source": [
    "class class3 (class1 , class2 ):\n",
    "    pass"
   ]
  },
  {
   "cell_type": "code",
   "execution_count": 91,
   "id": "a14575e9-77ba-45d5-8586-17a1facae7b8",
   "metadata": {},
   "outputs": [],
   "source": [
    "class_obj = class3()"
   ]
  },
  {
   "cell_type": "code",
   "execution_count": 93,
   "id": "abf2239b-cf98-4c51-911e-efb3dfb2b5a7",
   "metadata": {},
   "outputs": [
    {
     "name": "stdout",
     "output_type": "stream",
     "text": [
      "this is class 1\n"
     ]
    }
   ],
   "source": [
    "class_obj.test_class1()"
   ]
  },
  {
   "cell_type": "code",
   "execution_count": 94,
   "id": "81ca606c-58db-4ce3-834e-74002101eb64",
   "metadata": {},
   "outputs": [
    {
     "name": "stdout",
     "output_type": "stream",
     "text": [
      "this is class 2\n"
     ]
    }
   ],
   "source": [
    "class_obj.test_class2()"
   ]
  },
  {
   "cell_type": "raw",
   "id": "21c3075e-877c-45b0-8c14-b73c9d6ea7e4",
   "metadata": {},
   "source": [
    "Q4. What are getter and setter in python? Create a class and create a getter and a setter method in this\n",
    "class."
   ]
  },
  {
   "cell_type": "raw",
   "id": "cb5ed629-cc00-4e33-a080-202514b27b85",
   "metadata": {},
   "source": [
    "In Python, getters and setters are not the same as those in other object-oriented programming languages. Basically, the main purpose of using getters and setters in object-oriented programs is to ensure data encapsulation. Private variables in python are not actually hidden fields like in other object oriented languages. Getters and Setters in python are used for the following reasons 1)To add validation logic around getting and setting a value. 2)To avoid direct access of a class field i.e. private variables cannot be accessed directly or modified by external user.\n",
    "\n",
    "A getter is a method that gets the value of a property.\n",
    "\n",
    "A setter is a method that sets the value of a property.\n",
    "\n",
    "There are many ways to create getter and setters in Python. The most pythonic wasy is using @property decorator\n",
    "\n",
    "Here's an example of a class with a getter and setter method in Python:"
   ]
  },
  {
   "cell_type": "code",
   "execution_count": 95,
   "id": "a8546a2f-14c5-4d0d-83b2-d5227bc3f28c",
   "metadata": {},
   "outputs": [],
   "source": [
    "class Person:\n",
    "    def __init__(self, name, age):\n",
    "        self.__name = name\n",
    "        self.__age = age\n",
    "\n",
    "    @property                # getter for modifying name attribute\n",
    "    def name(self):\n",
    "        return self.__name\n",
    "\n",
    "    @name.setter             # setter for modifying name attribute\n",
    "    def name(self, name):\n",
    "        self.__name = name\n",
    "\n",
    "    @property                #getter for retrieving age attribute\n",
    "    def age(self):\n",
    "        return self.__age\n",
    "\n",
    "    @age.setter             #setter for modifying age attribute\n",
    "    def age(self, age):\n",
    "        self.__age = age\n"
   ]
  },
  {
   "cell_type": "code",
   "execution_count": 96,
   "id": "e20ab3cc-308e-440d-be6b-48cfe4b85715",
   "metadata": {},
   "outputs": [],
   "source": [
    "person = Person(\"Ram\", 30)\n"
   ]
  },
  {
   "cell_type": "code",
   "execution_count": null,
   "id": "be44a1c3-5080-4148-a73f-0e84020ebb65",
   "metadata": {},
   "outputs": [],
   "source": [
    "print(person.name)  # Output: Ram\n",
    "person.name = \"Rohim\"\n",
    "print(person.name)  # Output: Rohim"
   ]
  },
  {
   "cell_type": "raw",
   "id": "902545e0-6c35-4552-88b5-4c799902d66f",
   "metadata": {},
   "source": [
    "Q5.What is method overriding in python? Write a python code to demonstrate method overriding."
   ]
  },
  {
   "cell_type": "raw",
   "id": "75440165-23e4-4178-98fc-9c1a7698c4f3",
   "metadata": {},
   "source": [
    "Method overriding is a feature in object-oriented programming that allows a subclass to provide a specific implementation of a method that is already defined in its superclass. The purpose of method overriding is to allow a subclass to extend or modify the behavior of the superclass method."
   ]
  },
  {
   "cell_type": "code",
   "execution_count": 98,
   "id": "a1aef333-01ed-44c9-93ff-2f2993cb7280",
   "metadata": {},
   "outputs": [
    {
     "name": "stdout",
     "output_type": "stream",
     "text": [
      "Bark\n"
     ]
    }
   ],
   "source": [
    "#ParentClass\n",
    "class Animal:\n",
    "    def make_sound(self):\n",
    "        print(\"Animal sound\")\n",
    "        \n",
    "#Child Class\n",
    "class Dog(Animal):\n",
    "    def make_sound(self):\n",
    "        print(\"Bark\")\n",
    "\n",
    "dog = Dog()\n",
    "dog.make_sound()  # Output: Bark"
   ]
  },
  {
   "cell_type": "raw",
   "id": "431e64ff-e7c8-4c1a-9be4-ae3593957322",
   "metadata": {},
   "source": [
    "In this example, we have two classes, Animal and Dog, where Dog is a subclass of Animal. The Animal class has a method make_sound which prints \"Animal sound\". The Dog class overrides this method by providing its own implementation, which prints \"Bark\".\n",
    "\n",
    "When we create an instance of the Dog class and call the make_sound method, it invokes the implementation in the Dog class, not the one in the Animal class."
   ]
  },
  {
   "cell_type": "code",
   "execution_count": null,
   "id": "de45e027-297c-43da-8fef-2a6f21969e18",
   "metadata": {},
   "outputs": [],
   "source": []
  },
  {
   "cell_type": "code",
   "execution_count": null,
   "id": "72d9ac50-8897-48e8-8fa0-2b8635ffae86",
   "metadata": {},
   "outputs": [],
   "source": []
  },
  {
   "cell_type": "code",
   "execution_count": null,
   "id": "9e191db9-6b36-4902-a8b4-d10a85de6f07",
   "metadata": {},
   "outputs": [],
   "source": []
  },
  {
   "cell_type": "code",
   "execution_count": null,
   "id": "dbd2b1e6-1db7-4743-99e4-50153c310724",
   "metadata": {},
   "outputs": [],
   "source": []
  }
 ],
 "metadata": {
  "kernelspec": {
   "display_name": "Python 3 (ipykernel)",
   "language": "python",
   "name": "python3"
  },
  "language_info": {
   "codemirror_mode": {
    "name": "ipython",
    "version": 3
   },
   "file_extension": ".py",
   "mimetype": "text/x-python",
   "name": "python",
   "nbconvert_exporter": "python",
   "pygments_lexer": "ipython3",
   "version": "3.10.8"
  }
 },
 "nbformat": 4,
 "nbformat_minor": 5
}
